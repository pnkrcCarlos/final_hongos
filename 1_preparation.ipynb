{
 "cells": [
  {
   "cell_type": "markdown",
   "id": "eceb8c59-e054-4341-9286-5fbc1b2ae33f",
   "metadata": {
    "tags": []
   },
   "source": [
    "# Identificador de hongos"
   ]
  },
  {
   "cell_type": "markdown",
   "id": "a55d4b75-413a-493f-893f-929f9bda77ba",
   "metadata": {
    "tags": []
   },
   "source": [
    "## Entendimiento de los datos\n",
    "\n",
    "El dataset que se utiliza es *Mushrooms*, por Derek Kuno-Williams (2022), recuperado de [Kaggle](https://doi.org/10.34740/KAGGLE/DSV/3690937) en febrero del 2023. Este dataset contiene 8781 imágenes de hongos organizadas en subdirectorios que indican su clasificación y taxonomía, siendo las clasificaciones **\"mortífero\"**, **\"venenoso\"**, **\"condicionalmente comestible\"**, y **\"comestible\"**, y su taxonomía representada mediante **género** y **especie**. Cabe remarcar que las clasificaciones pueden ser incorrectas, por lo que no se debe utilizar para determinar si un hongo dado puede ser ingerido de forma segura."
   ]
  },
  {
   "cell_type": "markdown",
   "id": "bf2db757-751e-499c-8144-849aa105e39d",
   "metadata": {
    "tags": []
   },
   "source": [
    "## Preparación de los datos\n",
    "\n",
    "La base de datos se crea con las siguientes tablas de información general:\n",
    "\n",
    "- **mushrooms**: Cada registro contiene la imágen original, una versión de la imágen original con la paleta adaptativa, taxonomía (FK en *taxonomy*), clasificación.\n",
    "- **taxonomies**: Cada registro contiene género y especie.\n",
    "- **links_en**: Cada registro contiene un enlace a Wikipedia (EN) para cada registro en *taxonomy*.\n",
    "- **links_es**: Cada registro contiene un enlace a Wikipedia (ES) para cada registro en *taxonomy*.\n",
    "\n",
    "Para realizar la búsqueda se crean las siguientes tablas de vectores característicos:\n",
    "\n",
    "- **histograms**: Cada registro contiene los histograms que se obtienen de hacer binning (64×3) a las frecuencias relativas de las componentes para cada canal de la imágen original. Se tiene una columna por modo de color, y los valores son los vectores serializados.\n",
    "- **palette**: Cada registro representa uno de los colores de la paleta adaptativa a la que se convierten las imágenes.\n",
    "- **palette_hist**: Cada registro contiene el histograma que se obtiene de las frecuencias relativas de cada color de la paleta presente en la versión de la imágen que utiliza la paleta adaptativa."
   ]
  },
  {
   "cell_type": "code",
   "execution_count": 22,
   "id": "14569492-7aa9-485e-bfca-cb045d9843db",
   "metadata": {},
   "outputs": [],
   "source": [
    "import sqlite3\n",
    "\n",
    "queries = [\n",
    "    \"CREATE TABLE taxonomies (id INTEGER PRIMARY KEY AUTOINCREMENT, genus text NOT NULL, species text, UNIQUE(genus, species)) STRICT\",\n",
    "    \"CREATE TABLE mushrooms (id INTEGER PRIMARY KEY AUTOINCREMENT, picture blob NOT NULL, adapted blob, taxonomy_id INTEGER NOT NULL, classification TEXT NOT NULL, CONSTRAINT fk_mushrooms_taxonomies FOREIGN KEY (taxonomy_id) REFERENCES taxonomies(id))\",\n",
    "    \"CREATE TABLE links_en (id INTEGER PRIMARY KEY AUTOINCREMENT, taxonomy_id INTEGER NOT NULL, link TEXT, CONSTRAINT fk_links_en_taxonomies FOREIGN KEY (taxonomy_id) REFERENCES taxonomies(id))\",\n",
    "    \"CREATE TABLE links_es (id INTEGER PRIMARY KEY AUTOINCREMENT, taxonomy_id INTEGER NOT NULL, link TEXT, CONSTRAINT fk_links_es_taxonomies FOREIGN KEY (taxonomy_id) REFERENCES taxonomies(id))\",\n",
    "]\n",
    "\n",
    "con = sqlite3.connect(\"mushrooms.sqlite\")\n",
    "try:\n",
    "    for query in queries:\n",
    "        con.execute(query)\n",
    "except sqlite3.DatabaseError as ex:\n",
    "    print(\"Exception: \", ex)\n",
    "con.close()"
   ]
  },
  {
   "cell_type": "code",
   "execution_count": 23,
   "id": "57806780-2a4c-4801-b5c5-2305b1730201",
   "metadata": {},
   "outputs": [
    {
     "data": {
      "application/vnd.jupyter.widget-view+json": {
       "model_id": "3c11d0e2fefe40428bc08fe03725683e",
       "version_major": 2,
       "version_minor": 0
      },
      "text/plain": [
       "IntProgress(value=0, max=8781)"
      ]
     },
     "metadata": {},
     "output_type": "display_data"
    },
    {
     "name": "stdout",
     "output_type": "stream",
     "text": [
      "tax Exception:  UNIQUE constraint failed: taxonomies.genus, taxonomies.species 5338 {'classification': 'poisonous', 'genus': 'Amanita', 'species': 'smithiana', 'file_path': 'mushroom_dataset\\\\poisonous\\\\Amanita_smithiana\\\\Amanita_smithiana0.png'}\n",
      "tax Exception:  UNIQUE constraint failed: taxonomies.genus, taxonomies.species 5530 {'classification': 'poisonous', 'genus': 'Armillaria', 'species': 'mellea', 'file_path': 'mushroom_dataset\\\\poisonous\\\\Armillaria_mellea\\\\Armillaria_mellea0.png'}\n",
      "tax Exception:  UNIQUE constraint failed: taxonomies.genus, taxonomies.species 5734 {'classification': 'poisonous', 'genus': 'Clitocybe', 'species': 'dealbata', 'file_path': 'mushroom_dataset\\\\poisonous\\\\Clitocybe_dealbata\\\\Clitocybe_dealbata0.png'}\n",
      "tax Exception:  UNIQUE constraint failed: taxonomies.genus, taxonomies.species 5930 {'classification': 'poisonous', 'genus': 'Coprinopsis', 'species': 'atramentaria', 'file_path': 'mushroom_dataset\\\\poisonous\\\\Coprinopsis_atramentaria\\\\Coprinopsis_atramentaria0.png'}\n",
      "tax Exception:  UNIQUE constraint failed: taxonomies.genus, taxonomies.species 6776 {'classification': 'poisonous', 'genus': 'Entoloma', 'species': 'sinuatum', 'file_path': 'mushroom_dataset\\\\poisonous\\\\Entoloma_sinuatum\\\\Entoloma_sinuatum0.png'}\n",
      "tax Exception:  UNIQUE constraint failed: taxonomies.genus, taxonomies.species 7095 {'classification': 'poisonous', 'genus': 'Hypholoma', 'species': 'fasciculare', 'file_path': 'mushroom_dataset\\\\poisonous\\\\Hypholoma_fasciculare\\\\Hypholoma_fasciculare0.png'}\n",
      "tax Exception:  UNIQUE constraint failed: taxonomies.genus, taxonomies.species 7594 {'classification': 'poisonous', 'genus': 'Lactarius', 'species': 'torminosus', 'file_path': 'mushroom_dataset\\\\poisonous\\\\Lactarius_torminosus\\\\Lactarius_torminosus0.png'}\n",
      "tax Exception:  UNIQUE constraint failed: taxonomies.genus, taxonomies.species 7797 {'classification': 'poisonous', 'genus': 'Omphalotus', 'species': 'illudens', 'file_path': 'mushroom_dataset\\\\poisonous\\\\Omphalotus_illudens\\\\Omphalotus_illudens0.png'}\n",
      "tax Exception:  UNIQUE constraint failed: taxonomies.genus, taxonomies.species 7832 {'classification': 'poisonous', 'genus': 'Omphalotus', 'species': 'japonicus', 'file_path': 'mushroom_dataset\\\\poisonous\\\\Omphalotus_japonicus\\\\Omphalotus_japonicus0.png'}\n",
      "tax Exception:  UNIQUE constraint failed: taxonomies.genus, taxonomies.species 8029 {'classification': 'poisonous', 'genus': 'Pholiotina', 'species': 'rugosa', 'file_path': 'mushroom_dataset\\\\poisonous\\\\Pholiotina_rugosa\\\\Pholiotina_rugosa0.png'}\n",
      "tax Exception:  UNIQUE constraint failed: taxonomies.genus, taxonomies.species 8372 {'classification': 'poisonous', 'genus': 'Russula', 'species': 'subnigricans', 'file_path': 'mushroom_dataset\\\\poisonous\\\\Russula_subnigricans\\\\Russula_subnigricans0.png'}\n",
      "tax Exception:  UNIQUE constraint failed: taxonomies.genus, taxonomies.species 8521 {'classification': 'poisonous', 'genus': 'Suillus', 'species': 'granulatus', 'file_path': 'mushroom_dataset\\\\poisonous\\\\Suillus_granulatus\\\\Suillus_granulatus0.png'}\n",
      "tax Exception:  UNIQUE constraint failed: taxonomies.genus, taxonomies.species 8554 {'classification': 'poisonous', 'genus': 'Tricholoma', 'species': 'equestre', 'file_path': 'mushroom_dataset\\\\poisonous\\\\Tricholoma_equestre\\\\Tricholoma_equestre0.png'}\n",
      "tax Exception:  UNIQUE constraint failed: taxonomies.genus, taxonomies.species 8691 {'classification': 'poisonous', 'genus': 'Trogia', 'species': 'venenata', 'file_path': 'mushroom_dataset\\\\poisonous\\\\Trogia_venenata\\\\Trogia_venenata1.png'}\n"
     ]
    }
   ],
   "source": [
    "import os\n",
    "from PIL import Image\n",
    "from ipywidgets import IntProgress\n",
    "from IPython.display import display\n",
    "\n",
    "DATASETS_PATH = r\"mushroom_dataset\"\n",
    "\n",
    "def mushroom_file_generator():\n",
    "    for classification in os.listdir(DATASETS_PATH):\n",
    "        for taxonomy in os.listdir(DATASETS_PATH + \"\\\\\" + classification):\n",
    "            for file in os.listdir(\n",
    "                DATASETS_PATH + \"\\\\\" + classification + \"\\\\\" + taxonomy\n",
    "            ):\n",
    "                taxonomy_split = taxonomy.split(\"_\")\n",
    "                yield {\n",
    "                    \"classification\": classification,\n",
    "                    \"genus\": taxonomy_split[0],\n",
    "                    \"species\": taxonomy_split[1] if len(taxonomy_split)>1 else \"\",\n",
    "                    \"file_path\": DATASETS_PATH + \"\\\\\" + classification + \"\\\\\" + taxonomy + \"\\\\\" + file,\n",
    "                }\n",
    "                \n",
    "mg = mushroom_file_generator()\n",
    "shrooms = list(mg)\n",
    "\n",
    "f = IntProgress(min=0, max=len(shrooms))\n",
    "display(f)\n",
    "\n",
    "for i, shroom in enumerate(shrooms):\n",
    "    \n",
    "    if i == 0 or shroom[\"genus\"] != genus or shroom[\"species\"] != species:\n",
    "        genus = shroom[\"genus\"]\n",
    "        species = shroom[\"species\"]\n",
    "        con = sqlite3.connect(\"mushrooms.sqlite\")\n",
    "        cur = con.cursor()\n",
    "        try:\n",
    "            with con:\n",
    "                cur.execute(\"INSERT INTO taxonomies (genus, species) VALUES (:genus, :species)\", {\"genus\": genus, \"species\": species})\n",
    "                con.commit()\n",
    "        except sqlite3.DatabaseError as ex:\n",
    "            print(\"tax Exception: \", ex, i, shroom)\n",
    "        con.close()\n",
    "    classification = shroom[\"classification\"]\n",
    "    with open(shroom[\"file_path\"], \"rb\") as input_file:\n",
    "        picture = input_file.read()\n",
    "        con = sqlite3.connect(\"mushrooms.sqlite\")\n",
    "        cur = con.cursor()\n",
    "        try:\n",
    "            with con:\n",
    "                cur.execute(\"SELECT id FROM taxonomies WHERE genus = ? AND species = ?\", (shroom[\"genus\"], shroom[\"species\"]))\n",
    "                tax = cur.fetchone()[0]\n",
    "                con.execute(\"INSERT INTO mushrooms (picture, taxonomy_id, classification) VALUES (?, ?, ?)\", (sqlite3.Binary(picture), tax, classification))\n",
    "        except sqlite3.DatabaseError as ex:\n",
    "            print(\"mush Exception: \", ex, i, shroom, tax)\n",
    "        except TypeError as ex:\n",
    "            print(\"mush Exception: \", ex, i, tax)\n",
    "        con.close()"
   ]
  },
  {
   "cell_type": "code",
   "execution_count": null,
   "id": "b5e572ec-dba5-4df8-823b-fcada06fa09a",
   "metadata": {},
   "outputs": [],
   "source": []
  }
 ],
 "metadata": {
  "kernelspec": {
   "display_name": "Python 3 (ipykernel)",
   "language": "python",
   "name": "python3"
  },
  "language_info": {
   "codemirror_mode": {
    "name": "ipython",
    "version": 3
   },
   "file_extension": ".py",
   "mimetype": "text/x-python",
   "name": "python",
   "nbconvert_exporter": "python",
   "pygments_lexer": "ipython3",
   "version": "3.10.8"
  }
 },
 "nbformat": 4,
 "nbformat_minor": 5
}
